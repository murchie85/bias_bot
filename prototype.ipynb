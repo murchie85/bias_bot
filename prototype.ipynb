{
 "cells": [
  {
   "cell_type": "markdown",
   "metadata": {},
   "source": [
    "# Bias Recruitment AI\n",
    "   \n",
    "This code brings in the historical recruitment data (`train.csv`) and new candidate data (`test.csv`) then performs a decision/prediction on the new candidates if they will get the job or not. \n",
    "\n",
    "## Explanation \n",
    "\n",
    "Many AI algorythms are designed to automate jobs by doing it better/faster etc. In this case, the AI is making a decision based on the hiring history. I.e. If a company had shown bias towards/against a certain group then the AI would definitely pick up on this and possibly even do that even more. \n",
    "\n",
    "## Disclaimer\n",
    "\n",
    "This is for those new to AI or not of a technical background.\n",
    "\n",
    "## FLOW \n",
    "\n",
    "1. Import libs\n",
    "2. Import CSVs\n",
    "3. Set features and labels (information and values we wish to predict)\n",
    "4. Build & Train model\n",
    "5. Save results to CSV file "
   ]
  },
  {
   "cell_type": "markdown",
   "metadata": {},
   "source": [
    "## IMPORTING LIBRARIES AND CSV FILES"
   ]
  },
  {
   "cell_type": "code",
   "execution_count": 6,
   "metadata": {},
   "outputs": [
    {
     "name": "stdout",
     "output_type": "stream",
     "text": [
      "data/.DS_Store\n",
      "data/test.csv\n",
      "data/train.csv\n"
     ]
    }
   ],
   "source": [
    "import numpy as np # linear algebra\n",
    "import pandas as pd # data processing, CSV file I/O (e.g. pd.read_csv)\n",
    "from sklearn.model_selection import train_test_split\n",
    "from sklearn.metrics import accuracy_score\n",
    "\n",
    "\n",
    "import os\n",
    "for dirname, _, filenames in os.walk('data/'):\n",
    "    for filename in filenames:\n",
    "        print(os.path.join(dirname, filename))\n",
    "        \n",
    "train_data = pd.read_csv(\"data/train.csv\")\n",
    "test_data = pd.read_csv(\"data/test.csv\")\n"
   ]
  },
  {
   "cell_type": "code",
   "execution_count": 9,
   "metadata": {},
   "outputs": [
    {
     "name": "stdout",
     "output_type": "stream",
     "text": [
      "Model Ran successfully! Please open output.csv to view the data\n"
     ]
    }
   ],
   "source": [
    "from sklearn.ensemble import RandomForestClassifier\n",
    "\n",
    "y = train_data[\"hired\"]\n",
    "\n",
    "features = [\"gender\",\"disability\"]\n",
    "X = pd.get_dummies(train_data[features])\n",
    "X_test = pd.get_dummies(test_data[features])\n",
    "\n",
    "model = RandomForestClassifier(n_estimators=100, max_depth=5, random_state=1)\n",
    "model.fit(X, y)\n",
    "\n",
    "\n",
    "predictions = model.predict(X_test)\n",
    "\n",
    "output = pd.DataFrame({'candidateid': test_data.candidateid, 'gender':test_data.gender, 'disability':test_data.disability, 'hired': predictions})\n",
    "output.to_csv('output.csv', index=False)\n",
    "print(\"Model Ran successfully! Please open output.csv to view the data\")"
   ]
  },
  {
   "cell_type": "code",
   "execution_count": null,
   "metadata": {},
   "outputs": [],
   "source": []
  }
 ],
 "metadata": {
  "kernelspec": {
   "display_name": "Python 3",
   "language": "python",
   "name": "python3"
  },
  "language_info": {
   "codemirror_mode": {
    "name": "ipython",
    "version": 3
   },
   "file_extension": ".py",
   "mimetype": "text/x-python",
   "name": "python",
   "nbconvert_exporter": "python",
   "pygments_lexer": "ipython3",
   "version": "3.7.6"
  }
 },
 "nbformat": 4,
 "nbformat_minor": 4
}
